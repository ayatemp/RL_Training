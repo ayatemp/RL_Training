{
 "cells": [
  {
   "cell_type": "code",
   "execution_count": 1,
   "metadata": {},
   "outputs": [],
   "source": [
    "from enum import Enum\n",
    "import numpy as np\n",
    "import random\n",
    "import matplotlib.pyplot as plt\n",
    "import matplotlib.cm as cm\n",
    "import math\n",
    "from collections import defaultdict\n",
    "import gym\n",
    "from gym.envs.registration import register\n",
    "register(id=\"FrozenLakeEasy-v1\", entry_point=\"gym.envs.toy_text:FrozenLakeEnv\",\n",
    "         kwargs={\"is_slippery\": False})\n",
    "ENV_NAME = \"FrozenLake-v1\""
   ]
  },
  {
   "cell_type": "code",
   "execution_count": 2,
   "metadata": {},
   "outputs": [],
   "source": [
    "def visualize_v_grid(v_grid, env):\n",
    "    fig, ax = plt.subplots(figsize=(10, 8))\n",
    "    \n",
    "    # Convert V_grid to numpy array for easier manipulation\n",
    "    v_array = np.array(v_grid)\n",
    "    \n",
    "    # Create a mask for zero values (non-accessible states)\n",
    "    zero_mask = v_array == 0.0\n",
    "    \n",
    "    # Create a custom colormap\n",
    "    cmap = plt.cm.YlGn.copy()\n",
    "    cmap.set_bad(color='gray')\n",
    "    \n",
    "    # Create heatmap\n",
    "    v_array_masked = np.ma.masked_where(zero_mask, v_array)\n",
    "    im = ax.imshow(v_array_masked, cmap=cmap)\n",
    "    \n",
    "    # Add colorbar\n",
    "    cbar = ax.figure.colorbar(im, ax=ax)\n",
    "    cbar.ax.set_ylabel(\"Value\", rotation=-90, va=\"bottom\")\n",
    "    \n",
    "    # Add text annotations\n",
    "    for i in range(v_array.shape[0]):\n",
    "        for j in range(v_array.shape[1]):\n",
    "            if zero_mask[i, j]:\n",
    "                text = ax.text(j, i, 'X', ha=\"center\", va=\"center\", color=\"white\", fontweight='bold')\n",
    "            else:\n",
    "                text = ax.text(j, i, f'{v_array[i, j]:.3f}',\n",
    "                               ha=\"center\", va=\"center\", color=\"black\")\n",
    "    \n",
    "    # Set tick labels\n",
    "    ax.set_xticks(np.arange(v_array.shape[1]))\n",
    "    ax.set_yticks(np.arange(v_array.shape[0]))\n",
    "    ax.set_xticklabels(range(v_array.shape[1]))\n",
    "    ax.set_yticklabels(range(v_array.shape[0]))\n",
    "    \n",
    "    # Add grid\n",
    "    ax.set_xticks(np.arange(-0.5, v_array.shape[1], 1), minor=True)\n",
    "    ax.set_yticks(np.arange(-0.5, v_array.shape[0], 1), minor=True)\n",
    "    ax.grid(which=\"minor\", color=\"w\", linestyle='-', linewidth=3)\n",
    "    \n",
    "    # Rotate the tick labels and set their alignment\n",
    "    plt.setp(ax.get_xticklabels(), rotation=0, ha=\"center\", va=\"center\")\n",
    "    \n",
    "    # Add title\n",
    "    ax.set_title(\"Value Function Heatmap\")\n",
    "    \n",
    "    # Show plot\n",
    "    plt.tight_layout()\n",
    "    plt.show()\n"
   ]
  },
  {
   "cell_type": "code",
   "execution_count": 3,
   "metadata": {},
   "outputs": [],
   "source": [
    "class ELAgent():\n",
    "\n",
    "    def __init__(self, epsilon):\n",
    "        self.Q = {}\n",
    "        #ここはepsilon-greedy法のためのパラメータ\n",
    "        self.epsilon = epsilon\n",
    "        self.reward_log = []\n",
    "\n",
    "    def policy(self, s, actions):\n",
    "        # epsilon-greedy法が採用されている\n",
    "        if np.random.random() < self.epsilon:\n",
    "            #完全ランダムな行動を選択\n",
    "            return np.random.randint(len(actions))\n",
    "        else:\n",
    "            #ここはQ値が最大となる行動を選択\n",
    "            #ただ，Q値が存在しない場合，例えば初めて訪れた状態の場合はランダムに行動を選択\n",
    "            #おそらくコードの実装ではQ値を最初0で初期化している\n",
    "            if s in self.Q and sum(self.Q[s]) != 0:\n",
    "                return np.argmax(self.Q[s])\n",
    "            else:\n",
    "                return np.random.randint(len(actions))\n",
    "\n",
    "    def init_log(self):\n",
    "        self.reward_log = []\n",
    "\n",
    "    def log(self, reward):\n",
    "        self.reward_log.append(reward)\n",
    "\n",
    "    def show_reward_log(self, interval=50, episode=-1):\n",
    "        if episode > 0:\n",
    "            rewards = self.reward_log[-interval:]\n",
    "            mean = np.round(np.mean(rewards), 3)\n",
    "            std = np.round(np.std(rewards), 3)\n",
    "            print(\"At Episode {} average reward is {} (+/-{}).\".format(\n",
    "                   episode, mean, std))\n",
    "        else:\n",
    "            indices = list(range(0, len(self.reward_log), interval))\n",
    "            means = []\n",
    "            stds = []\n",
    "            for i in indices:\n",
    "                rewards = self.reward_log[i:(i + interval)]\n",
    "                means.append(np.mean(rewards))\n",
    "                stds.append(np.std(rewards))\n",
    "            means = np.array(means)\n",
    "            stds = np.array(stds)\n",
    "            plt.figure()\n",
    "            plt.title(\"Reward History\")\n",
    "            plt.grid()\n",
    "            plt.fill_between(indices, means - stds, means + stds,\n",
    "                             alpha=0.1, color=\"g\")\n",
    "            plt.plot(indices, means, \"o-\", color=\"g\",\n",
    "                     label=\"Rewards for each {} episode\".format(interval))\n",
    "            plt.legend(loc=\"best\")\n",
    "            plt.show()"
   ]
  },
  {
   "cell_type": "code",
   "execution_count": 4,
   "metadata": {},
   "outputs": [],
   "source": [
    "def show_q_value(Q):\n",
    "    \"\"\"\n",
    "    Show Q-values for FrozenLake-v0.\n",
    "    To show each action's evaluation,\n",
    "    a state is shown as 3 x 3 matrix like following.\n",
    "\n",
    "    +---+---+---+\n",
    "    |   | u |   |  u: up value\n",
    "    | l | m | r |  l: left value, r: right value, m: mean value\n",
    "    |   | d |   |  d: down value\n",
    "    +---+---+---+\n",
    "    \"\"\"\n",
    "    env = gym.make(ENV_NAME)\n",
    "    nrow = env.unwrapped.nrow\n",
    "    ncol = env.unwrapped.ncol\n",
    "    state_size = 3\n",
    "    q_nrow = nrow * state_size\n",
    "    q_ncol = ncol * state_size\n",
    "    reward_map = np.zeros((q_nrow, q_ncol))\n",
    "\n",
    "    for r in range(nrow):\n",
    "        for c in range(ncol):\n",
    "            s = r * ncol + c\n",
    "            state_exist = False\n",
    "            if isinstance(Q, dict) and s in Q:\n",
    "                state_exist = True\n",
    "            elif isinstance(Q, (np.ndarray, np.generic)) and s < Q.shape[0]:\n",
    "                state_exist = True\n",
    "\n",
    "            if state_exist:\n",
    "                # At the display map, the vertical index is reversed.\n",
    "                _r = 1 + (nrow - 1 - r) * state_size\n",
    "                _c = 1 + c * state_size\n",
    "                reward_map[_r][_c - 1] = Q[s][0]  # LEFT = 0\n",
    "                reward_map[_r - 1][_c] = Q[s][1]  # DOWN = 1\n",
    "                reward_map[_r][_c + 1] = Q[s][2]  # RIGHT = 2\n",
    "                reward_map[_r + 1][_c] = Q[s][3]  # UP = 3\n",
    "                reward_map[_r][_c] = np.mean(Q[s])  # Center\n",
    "\n",
    "    fig = plt.figure()\n",
    "    ax = fig.add_subplot(1, 1, 1)\n",
    "    plt.imshow(reward_map, cmap=cm.RdYlGn, interpolation=\"bilinear\",\n",
    "               vmax=abs(reward_map).max(), vmin=-abs(reward_map).max())\n",
    "    ax.set_xlim(-0.5, q_ncol - 0.5)\n",
    "    ax.set_ylim(-0.5, q_nrow - 0.5)\n",
    "    ax.set_xticks(np.arange(-0.5, q_ncol, state_size))\n",
    "    ax.set_yticks(np.arange(-0.5, q_nrow, state_size))\n",
    "    ax.set_xticklabels(range(ncol + 1))\n",
    "    ax.set_yticklabels(range(nrow + 1))\n",
    "    ax.grid(which=\"both\")\n",
    "    plt.show()"
   ]
  },
  {
   "cell_type": "code",
   "execution_count": 5,
   "metadata": {},
   "outputs": [],
   "source": [
    "class QLearningAgent(ELAgent):\n",
    "\n",
    "    def __init__(self, epsilon=0.1):\n",
    "        super().__init__(epsilon)\n",
    "\n",
    "    def learn(self, env, episode_count=1000, gamma=0.9,\n",
    "              learning_rate=0.1, render=False, report_interval=50):\n",
    "        self.init_log()\n",
    "        actions = list(range(env.action_space.n))\n",
    "        self.Q = defaultdict(lambda: [0] * len(actions))\n",
    "        for e in range(episode_count):\n",
    "            s = env.reset()\n",
    "            s = s[0]\n",
    "            done = False\n",
    "            while not done:\n",
    "                if render:\n",
    "                    env.render()\n",
    "                a = self.policy(s, actions)\n",
    "                #n_state, reward, done, info = env.step(a)\n",
    "                n_state, reward, terminated, truncated, info = env.step(a)\n",
    "                done = terminated or truncated\n",
    "\n",
    "                gain = reward + gamma * max(self.Q[n_state])\n",
    "                estimated = self.Q[s][a]\n",
    "                self.Q[s][a] += learning_rate * (gain - estimated)\n",
    "                s = n_state\n",
    "\n",
    "            else:\n",
    "                self.log(reward)\n",
    "\n",
    "            if e != 0 and e % report_interval == 0:\n",
    "                self.show_reward_log(episode=e)"
   ]
  },
  {
   "cell_type": "code",
   "execution_count": 6,
   "metadata": {},
   "outputs": [
    {
     "name": "stdout",
     "output_type": "stream",
     "text": [
      "At Episode 50 average reward is 0.0 (+/-0.0).\n",
      "At Episode 100 average reward is 0.08 (+/-0.271).\n",
      "At Episode 150 average reward is 0.06 (+/-0.237).\n",
      "At Episode 200 average reward is 0.04 (+/-0.196).\n",
      "At Episode 250 average reward is 0.02 (+/-0.14).\n",
      "At Episode 300 average reward is 0.04 (+/-0.196).\n",
      "At Episode 350 average reward is 0.04 (+/-0.196).\n",
      "At Episode 400 average reward is 0.0 (+/-0.0).\n",
      "At Episode 450 average reward is 0.06 (+/-0.237).\n"
     ]
    },
    {
     "name": "stderr",
     "output_type": "stream",
     "text": [
      "/Library/Frameworks/Python.framework/Versions/3.10/lib/python3.10/site-packages/gym/utils/passive_env_checker.py:233: DeprecationWarning: `np.bool8` is a deprecated alias for `np.bool_`.  (Deprecated NumPy 1.24)\n",
      "  if not isinstance(terminated, (bool, np.bool8)):\n"
     ]
    },
    {
     "data": {
      "image/png": "[encoded data removed]",
      "text/plain": [
       "<Figure size 432x288 with 1 Axes>"
      ]
     },
     "metadata": {
      "needs_background": "light"
     },
     "output_type": "display_data"
    },
    {
     "data": {
      "image/png": "[encoded data removed]",
      "text/plain": [
       "<Figure size 432x288 with 1 Axes>"
      ]
     },
     "metadata": {
      "needs_background": "light"
     },
     "output_type": "display_data"
    }
   ],
   "source": [
    "def train():\n",
    "    agent = QLearningAgent()\n",
    "    env = gym.make(ENV_NAME)\n",
    "    agent.learn(env, episode_count=500)\n",
    "    show_q_value(agent.Q)\n",
    "    agent.show_reward_log()\n",
    "\n",
    "\n",
    "if __name__ == \"__main__\":\n",
    "    train()\n"
   ]
  },
  {
   "cell_type": "code",
   "execution_count": null,
   "metadata": {},
   "outputs": [],
   "source": []
  },
  {
   "cell_type": "code",
   "execution_count": null,
   "metadata": {},
   "outputs": [],
   "source": []
  },
  {
   "cell_type": "code",
   "execution_count": null,
   "metadata": {},
   "outputs": [],
   "source": []
  },
  {
   "cell_type": "code",
   "execution_count": null,
   "metadata": {},
   "outputs": [],
   "source": []
  },
  {
   "cell_type": "code",
   "execution_count": null,
   "metadata": {},
   "outputs": [],
   "source": []
  },
  {
   "cell_type": "code",
   "execution_count": null,
   "metadata": {},
   "outputs": [],
   "source": []
  },
  {
   "cell_type": "code",
   "execution_count": null,
   "metadata": {},
   "outputs": [],
   "source": []
  },
  {
   "cell_type": "code",
   "execution_count": null,
   "metadata": {},
   "outputs": [],
   "source": []
  },
  {
   "cell_type": "code",
   "execution_count": null,
   "metadata": {},
   "outputs": [],
   "source": []
  },
  {
   "cell_type": "code",
   "execution_count": null,
   "metadata": {},
   "outputs": [],
   "source": []
  }
 ],
 "metadata": {
  "kernelspec": {
   "display_name": "Python 3",
   "language": "python",
   "name": "python3"
  },
  "language_info": {
   "codemirror_mode": {
    "name": "ipython",
    "version": 3
   },
   "file_extension": ".py",
   "mimetype": "text/x-python",
   "name": "python",
   "nbconvert_exporter": "python",
   "pygments_lexer": "ipython3",
   "version": "3.10.2"
  }
 },
 "nbformat": 4,
 "nbformat_minor": 2
}
